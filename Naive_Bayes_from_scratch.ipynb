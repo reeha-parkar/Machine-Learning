{
 "cells": [
  {
   "cell_type": "code",
   "execution_count": 1,
   "metadata": {
    "id": "IAd7n_fmfg80"
   },
   "outputs": [],
   "source": [
    "days = [[\"ran\", \"was tired\", \"woke up early\"],\n",
    "        [\"ran\", \"was not tired\", \"didn't wake up early\"], \n",
    "        [\"didn't run\", \"was tired\", \"woke up early\"],\n",
    "        [\"ran\", \"was tired\", \"didn't wake up early\"],\n",
    "        [\"didn't run\", \"was tired\", \"woke up early\"], \n",
    "        [\"ran\", \"was not tired\", \"didn't wake up early\"],\n",
    "        [\"ran\", \"was tired\", \"woke up early\"]]"
   ]
  },
  {
   "cell_type": "code",
   "execution_count": 2,
   "metadata": {
    "id": "MaNtyhwQfg87"
   },
   "outputs": [],
   "source": [
    "new_day = [\"ran\", \"didn't wake up early\"]"
   ]
  },
  {
   "cell_type": "code",
   "execution_count": 3,
   "metadata": {
    "id": "YuoonYRJfg9C"
   },
   "outputs": [],
   "source": [
    "prob_tired = len([d for d in days if d[1] == \"was tired\"]) / len(days)  "
   ]
  },
  {
   "cell_type": "code",
   "execution_count": 4,
   "metadata": {
    "colab": {
     "base_uri": "https://localhost:8080/",
     "height": 34
    },
    "id": "prBJFooffg9H",
    "outputId": "5c1f0559-ce4f-4da4-fca6-2554c90c04d2"
   },
   "outputs": [
    {
     "data": {
      "text/plain": [
       "0.7142857142857143"
      ]
     },
     "execution_count": 4,
     "metadata": {},
     "output_type": "execute_result"
    }
   ],
   "source": [
    "prob_tired"
   ]
  },
  {
   "cell_type": "code",
   "execution_count": 5,
   "metadata": {
    "id": "M7ZG7LHxfg9O"
   },
   "outputs": [],
   "source": [
    "prob_ran = len([d for d in days if d[0] == \"ran\"]) / len(days)"
   ]
  },
  {
   "cell_type": "code",
   "execution_count": 6,
   "metadata": {
    "colab": {
     "base_uri": "https://localhost:8080/",
     "height": 34
    },
    "id": "YuoW7FwWfg9T",
    "outputId": "993054e6-db85-4a1e-958f-377738c58078"
   },
   "outputs": [
    {
     "data": {
      "text/plain": [
       "0.7142857142857143"
      ]
     },
     "execution_count": 6,
     "metadata": {},
     "output_type": "execute_result"
    }
   ],
   "source": [
    "prob_ran"
   ]
  },
  {
   "cell_type": "code",
   "execution_count": 7,
   "metadata": {
    "id": "Cho2Ykqnfg9Z"
   },
   "outputs": [],
   "source": [
    "prob_ran_given_tired = len([d for d in days if d[0] == \"ran\" and d[1] == \"was tired\"])/ len([d for d in days if d[1] == \"was tired\"])\n"
   ]
  },
  {
   "cell_type": "code",
   "execution_count": 8,
   "metadata": {
    "colab": {
     "base_uri": "https://localhost:8080/",
     "height": 34
    },
    "id": "bIB8LC91fg_Q",
    "outputId": "0e4999bd-e441-43ab-d4a6-8d99ee25b042"
   },
   "outputs": [
    {
     "data": {
      "text/plain": [
       "0.6"
      ]
     },
     "execution_count": 8,
     "metadata": {},
     "output_type": "execute_result"
    }
   ],
   "source": [
    "prob_ran_given_tired"
   ]
  },
  {
   "cell_type": "code",
   "execution_count": 9,
   "metadata": {
    "id": "2noOpumZfg_Y"
   },
   "outputs": [],
   "source": [
    "prob_tired_given_ran = (prob_ran_given_tired * prob_tired) / prob_ran"
   ]
  },
  {
   "cell_type": "code",
   "execution_count": 10,
   "metadata": {
    "colab": {
     "base_uri": "https://localhost:8080/",
     "height": 34
    },
    "id": "0xwySZijfg_f",
    "outputId": "4d5867ac-1f97-49bf-b788-02fd8c604c07"
   },
   "outputs": [
    {
     "name": "stdout",
     "output_type": "stream",
     "text": [
      "Probability of being tired given that you ran: 0.6\n"
     ]
    }
   ],
   "source": [
    "print(\"Probability of being tired given that you ran: {0}\".format(prob_tired_given_ran))\n"
   ]
  },
  {
   "cell_type": "code",
   "execution_count": 11,
   "metadata": {
    "id": "2ECQi2lmfg_l"
   },
   "outputs": [],
   "source": [
    "def calc_y_probability(y_label, days):\n",
    "    return len([d for d in days if d[1] == y_label]) / len(days)"
   ]
  },
  {
   "cell_type": "code",
   "execution_count": 12,
   "metadata": {
    "colab": {
     "base_uri": "https://localhost:8080/",
     "height": 34
    },
    "id": "qjTEA3UFfg_p",
    "outputId": "981b2895-91d5-43f7-a4f3-c215562bcf97"
   },
   "outputs": [
    {
     "data": {
      "text/plain": [
       "0.7142857142857143"
      ]
     },
     "execution_count": 12,
     "metadata": {},
     "output_type": "execute_result"
    }
   ],
   "source": [
    "calc_y_probability(\"was tired\",days)"
   ]
  },
  {
   "cell_type": "code",
   "execution_count": 13,
   "metadata": {
    "colab": {
     "base_uri": "https://localhost:8080/",
     "height": 34
    },
    "id": "WNCuVTGHfg_t",
    "outputId": "e403511d-8b67-456f-8272-a84d7cc8f687"
   },
   "outputs": [
    {
     "data": {
      "text/plain": [
       "0.2857142857142857"
      ]
     },
     "execution_count": 13,
     "metadata": {},
     "output_type": "execute_result"
    }
   ],
   "source": [
    "calc_y_probability(\"was not tired\",days)"
   ]
  },
  {
   "cell_type": "code",
   "execution_count": 14,
   "metadata": {
    "id": "PYtcMnT7fg_w"
   },
   "outputs": [],
   "source": [
    "def calc_ran_probability_given_y(ran_label, y_label, days):\n",
    "    return len([d for d in days if d[1] == y_label and d[0] == ran_label]) / len(days)"
   ]
  },
  {
   "cell_type": "code",
   "execution_count": 15,
   "metadata": {
    "id": "9RrW5B3gfg_1"
   },
   "outputs": [],
   "source": [
    "def calc_woke_early_probability_given_y(woke_label, y_label, days):\n",
    "    return len([d for d in days if d[1] == y_label and d[2] == woke_label]) / len(days)"
   ]
  },
  {
   "cell_type": "code",
   "execution_count": 16,
   "metadata": {
    "id": "km8s9Aaifg_5"
   },
   "outputs": [],
   "source": [
    "denominator = len([d for d in days if d[0] == new_day[0] and d[2] == new_day[1]]) / len(days)"
   ]
  },
  {
   "cell_type": "code",
   "execution_count": 17,
   "metadata": {
    "colab": {
     "base_uri": "https://localhost:8080/",
     "height": 34
    },
    "id": "K859MMpqfg_8",
    "outputId": "defed72d-c3b2-400c-ba14-12993e5a5799"
   },
   "outputs": [
    {
     "data": {
      "text/plain": [
       "0.42857142857142855"
      ]
     },
     "execution_count": 17,
     "metadata": {},
     "output_type": "execute_result"
    }
   ],
   "source": [
    "denominator"
   ]
  },
  {
   "cell_type": "code",
   "execution_count": 18,
   "metadata": {
    "id": "ZixKDPi_fhAA"
   },
   "outputs": [],
   "source": [
    "prob_tired = (calc_y_probability(\"was tired\", days) * \n",
    "              calc_ran_probability_given_y(new_day[0], \"was tired\", days) *\n",
    "              calc_woke_early_probability_given_y(new_day[1], \"was tired\", days)) / denominator\n"
   ]
  },
  {
   "cell_type": "code",
   "execution_count": 19,
   "metadata": {
    "id": "ILQUs1CAfhAE"
   },
   "outputs": [],
   "source": [
    "prob_not_tired = (calc_y_probability(\"was not tired\", days) * \n",
    "                  calc_ran_probability_given_y(new_day[0], \"was not tired\", days) * \n",
    "                  calc_woke_early_probability_given_y(new_day[1], \"was not tired\", days)) / denominator\n"
   ]
  },
  {
   "cell_type": "code",
   "execution_count": 20,
   "metadata": {
    "colab": {
     "base_uri": "https://localhost:8080/",
     "height": 54
    },
    "id": "ObN6-dj2fhAJ",
    "outputId": "1d0076fa-fadb-4a6d-9212-a84290f9af7f"
   },
   "outputs": [
    {
     "name": "stdout",
     "output_type": "stream",
     "text": [
      "Final classification for new day: was tired. Tired probability: 0.10204081632653061. Not tired probability: 0.054421768707482984.\n"
     ]
    }
   ],
   "source": [
    "classification = \"was tired\"\n",
    "if prob_not_tired > prob_tired:\n",
    "    classification = \"was not tired\"\n",
    "print(\"Final classification for new day: {0}. Tired probability: {1}. Not tired probability: {2}.\".format(classification, prob_tired, prob_not_tired))"
   ]
  }
 ],
 "metadata": {
  "colab": {
   "collapsed_sections": [],
   "name": "naive bayes from scratch .ipynb",
   "provenance": []
  },
  "kernelspec": {
   "display_name": "Python 3",
   "language": "python",
   "name": "python3"
  },
  "language_info": {
   "codemirror_mode": {
    "name": "ipython",
    "version": 3
   },
   "file_extension": ".py",
   "mimetype": "text/x-python",
   "name": "python",
   "nbconvert_exporter": "python",
   "pygments_lexer": "ipython3",
   "version": "3.7.9"
  }
 },
 "nbformat": 4,
 "nbformat_minor": 1
}
