{
  "nbformat": 4,
  "nbformat_minor": 0,
  "metadata": {
    "colab": {
      "name": "PCA",
      "provenance": [],
      "collapsed_sections": []
    },
    "kernelspec": {
      "name": "python3",
      "display_name": "Python 3"
    }
  },
  "cells": [
    {
      "cell_type": "markdown",
      "metadata": {
        "id": "FwFEIyLxKFOe"
      },
      "source": [
        "# **PCA (Principal Component Analysis)**\n"
      ]
    },
    {
      "cell_type": "markdown",
      "metadata": {
        "id": "_j7doiJgM7Zw"
      },
      "source": [
        "\n",
        "\n",
        "---\n",
        "\n"
      ]
    },
    {
      "cell_type": "markdown",
      "metadata": {
        "id": "X0hQAFWkK4H-"
      },
      "source": [
        "**Principal Component Analysis (PCA)** is an unsupervised, non-parametric statistical technique primarily used for dimensionality reduction in machine learning.\n",
        "\n",
        "High dimensionality means that the dataset has a large number of features. The primary problem associated with high-dimensionality in the machine learning field is model overfitting, which reduces the ability to generalize beyond the examples in the training set. Richard Bellman described this phenomenon in 1961 as the Curse of Dimensionality where \"Many algorithms that work fine in low dimensions become intractable when the input is high-dimensional.\"\n",
        "\n",
        "The ability to generalize correctly becomes exponentially harder as the dimensionality of the training dataset grows, as the training set covers a dwindling fraction of the input space. Models also become more efficient as the reduced feature set boosts learning rates and diminishes computation costs by removing redundant features.\n",
        "\n",
        "PCA can also be used to filter noisy datasets, such as image compression. The first principal component expresses the most amount of variance. Each additional component expresses less variance and more noise, so representing the data with a smaller subset of principal components preserves the signal and discards the noise."
      ]
    },
    {
      "cell_type": "markdown",
      "metadata": {
        "id": "8CgWEsK1M_LQ"
      },
      "source": [
        "\n",
        "\n",
        "---\n",
        "\n"
      ]
    },
    {
      "cell_type": "markdown",
      "metadata": {
        "id": "WLOeZDasLcYk"
      },
      "source": [
        "**Primer:**\n",
        "\n",
        "PCA makes maximum variability in the dataset more visible by rotating the axes. PCA identifies a list of the principal axes to describe the underlying dataset before ranking them according to the amount of variance captured by each.\n",
        "\n",
        "the first of the principal components (PC1) is a synthetic variable constructed as a linear combination to determine the magnitude and the direction of the maximum variance in the dataset. This component has the highest variability of all the components and therefore the most information. The second principal component (PC2) is also a synthetic linear combination which captures the remaining variance in the data set and is not correlated with PC1. The following principal components similarly capture the remaining variation without being correlated with the previous component.\n",
        "\n",
        "PCA is an unsupervised learning algorithm as the directions of these components is calculated purely from the explanatory feature set without any reference to response variables.\n",
        "\n",
        "The number of feature combinations is equal to the number of dimensions of the dataset and in general set the maximum number of PCAs which can be constructed."
      ]
    },
    {
      "cell_type": "markdown",
      "metadata": {
        "id": "kToXzTTDNDaU"
      },
      "source": [
        "\n",
        "\n",
        "---\n",
        "\n"
      ]
    },
    {
      "cell_type": "markdown",
      "metadata": {
        "id": "4DuXBlWLLtFT"
      },
      "source": [
        "**Measurement:**\n",
        "\n",
        "Eigenvectors and eigenvalues are measures used to quantify the direction and the magnitude of the variation captured by each axis. Eigenvector describes the angle or direction of the axis through the data space, and the eigenvalue quantifies the magnitude of the variance of the data on the axis.\n",
        "\n",
        "A is an x n matrix, ƛ is the eigenvalue, and the X is the eigenvector.\n",
        "The number of feature combinations is equal to the number of dimensions of the dataset. For example, a dataset with ten features will have ten eigenvalues/eigenvector combinations.\n",
        "\n",
        "The correlation between each principal component should be zero as subsequent components capture the remaining variance. Correlation between any pair of eigenvalue/eigenvector is zero so that the axes are orthogonal, i.e., perpendicular to each other in the data space.\n",
        "\n",
        "The line which maximizes the variance of the data once it is projected into the data space is equivalent to finding the path which minimizes the least-squares distance of the projection."
      ]
    },
    {
      "cell_type": "markdown",
      "metadata": {
        "id": "tQPbj3kSNFIW"
      },
      "source": [
        "\n",
        "\n",
        "---\n",
        "\n"
      ]
    },
    {
      "cell_type": "markdown",
      "metadata": {
        "id": "Rhfeg8M8MC2b"
      },
      "source": [
        "**Assumptions:**\n",
        "\n",
        "PCA is based on the Pearson correlation coefficient framework and inherits similar assumptions.\n",
        "\n",
        "*Sample size*: Minimum of 150 observations and ideally a 5:1 ratio of observation to features (Pallant, 2010)\n",
        "\n",
        "*Correlations*: The feature set is correlated, so the reduced feature set effectively represents the original data space.\n",
        "\n",
        "*Linearity*: All variables exhibit a constant multivariate normal relationship, and principal components are a linear combination of the original features.\n",
        "\n",
        "*Outliers*: No significant outliers in the data as these can have a disproportionate influence on the results.\n",
        "\n",
        "*Large variance implies more structure*: high variance axes are treated as principal components, while low variance axes are treated as noise and discarded."
      ]
    },
    {
      "cell_type": "markdown",
      "metadata": {
        "id": "rOBE4mI3NGqi"
      },
      "source": [
        "\n",
        "\n",
        "---\n",
        "\n"
      ]
    },
    {
      "cell_type": "markdown",
      "metadata": {
        "id": "k2vW3Q0kOhSP"
      },
      "source": [
        "**Applied PCA Workflow:**\n",
        "\n",
        "Theocratically, PCA linear transformation can also be conducted by the input layer weights of the neural network. However, when scaling the neural network, the size of the dataset required to calculate the network weights increases and overfitting can become a problem.\n",
        "\n",
        "On the other hand, PCA reduces the number of the input nodes and conversely the minimum size of the dataset to train the network.\n",
        "\n",
        "1. Normalize the data\n",
        "PCA is used to identify the components with the maximum variance, and the contribution of each variable to a component is based on its magnitude of variance. It is best practice to normalize the data before conducting a PCA as unscaled data with different measurement units can distort the relative comparison of variance across features.\n",
        "\n",
        "2. Create a covariance matrix for Eigen decomposition\n",
        "A useful way to get all the possible relationship between all the different dimensions is to calculate the covariance among them all and put them in a covariance matrix which represents these relationships in the data. Understanding the cumulative percentage of variance captured by each principal component is an integral part of reducing the feature set.\n",
        "\n",
        "3. Select the optimal number of principal components\n",
        "The optimal number of principal components is determined by looking at the cumulative explained variance ratio as a function of the number of components. The choice of PCs is entirely dependent on the tradeoff between dimensionality reduction and information loss. The graphical representation of the cumulative variance below shows that nearly 75% of the variance can be attributed to just 100/784 features and 95% to 300/784 indicating high feature redundancy."
      ]
    },
    {
      "cell_type": "markdown",
      "metadata": {
        "id": "S9VoIZ1_OhwF"
      },
      "source": [
        "\n",
        "\n",
        "---\n",
        "\n"
      ]
    },
    {
      "cell_type": "markdown",
      "metadata": {
        "id": "1t8PozhJMZPy"
      },
      "source": [
        "**PCA Limitations:**\n",
        "\n",
        "*Model performance*: PCA can lead to a reduction in model performance on datasets with no or low feature correlation or does not meet the assumptions of linearity.\n",
        "\n",
        "*Classification accuracy*: Variance based PCA framework does not consider the differentiating characteristics of the classes. Also, the information that distinguishes one class from another might be in the low variance components and may be discarded.\n",
        "\n",
        "*Outliers*: PCA is also affected by outliers, and normalization of the data needs to be an essential component of any workflow.\n",
        "\n",
        "*Interpretability*: Each principal component is a combination of original features and does not allow for the individual feature importance to be recognized.\n"
      ]
    },
    {
      "cell_type": "markdown",
      "metadata": {
        "id": "q4tjGKyHNIcQ"
      },
      "source": [
        "\n",
        "\n",
        "---\n",
        "\n"
      ]
    },
    {
      "cell_type": "markdown",
      "metadata": {
        "id": "A9aO-10QMr3W"
      },
      "source": [
        "**Conclusions:**\n",
        "\n",
        "PCA is a handy addition to the data scientist toolkit and will improve model performance in most scenarios. There are some extensions to mitigate specific limitations of PCA in the Scikit-Learn library. These include RandomizedPCA, which is suitable for quickly approximate the first few principal components in very high-dimensional data, and SparsePCA which introduces a regularization tuning parameter for increased sparsity.\n"
      ]
    },
    {
      "cell_type": "markdown",
      "metadata": {
        "id": "A_QKyxuINK0E"
      },
      "source": [
        "# **PCA using python:**"
      ]
    },
    {
      "cell_type": "code",
      "metadata": {
        "id": "6VC_oJOTFM2c"
      },
      "source": [
        "#Importing required libraries\n",
        "import numpy as np"
      ],
      "execution_count": null,
      "outputs": []
    },
    {
      "cell_type": "code",
      "metadata": {
        "id": "VGmieSqTFTyI"
      },
      "source": [
        "# Generate a dummy dataset\n",
        "X = np.random.randint(10,50,100).reshape(20,5) \n",
        "# Mean centering the data  \n",
        "X_meaned = X - np.mean(X , axis = 0)"
      ],
      "execution_count": null,
      "outputs": []
    },
    {
      "cell_type": "code",
      "metadata": {
        "id": "e9UJ8p3gFXGb"
      },
      "source": [
        "# Calculating the covariance matrix of the mean-centered data\n",
        "cov_mat = np.cov(X_meaned , rowvar = False)"
      ],
      "execution_count": null,
      "outputs": []
    },
    {
      "cell_type": "code",
      "metadata": {
        "id": "uIkwi3rDFbZn"
      },
      "source": [
        "#Calculating Eigenvalues and Eigenvectors of the covariance matrix\n",
        "eigen_values , eigen_vectors = np.linalg.eigh(cov_mat)"
      ],
      "execution_count": null,
      "outputs": []
    },
    {
      "cell_type": "code",
      "metadata": {
        "id": "Xe_YK8J5Ffem"
      },
      "source": [
        "#sort the eigenvalues and eigenvectors in descending order\n",
        "sorted_index = np.argsort(eigen_values)[::-1]\n",
        "sorted_eigenvalue = eigen_values[sorted_index]\n",
        "sorted_eigenvectors = eigen_vectors[:,sorted_index]"
      ],
      "execution_count": null,
      "outputs": []
    },
    {
      "cell_type": "code",
      "metadata": {
        "id": "Nzmwl-SMFkKW"
      },
      "source": [
        "# Select the first n eigenvectors, n is desired dimension of our final reduced data\n",
        "n_components = 2 \n",
        "eigenvector_subset = sorted_eigenvectors[:,0:n_components]"
      ],
      "execution_count": null,
      "outputs": []
    },
    {
      "cell_type": "code",
      "metadata": {
        "id": "A5BR3boMFoqh"
      },
      "source": [
        "# Transform the data \n",
        "X_reduced = np.dot(eigenvector_subset.transpose(),X_meaned.transpose()).transpose()"
      ],
      "execution_count": null,
      "outputs": []
    },
    {
      "cell_type": "code",
      "metadata": {
        "id": "tRYe7y0gFrhB",
        "colab": {
          "base_uri": "https://localhost:8080/"
        },
        "outputId": "a6a74b7b-3179-4634-9d51-580531e4e93a"
      },
      "source": [
        "# Output\n",
        "print('Original data:')\n",
        "print(X)\n",
        "print('Dimensions of the original dummy data: ', X.shape)\n",
        "print('Data after applying dimensionality reduction technique, PCA:')\n",
        "print(X_reduced)\n",
        "print('Dimensions of the data after applying PCA: ', X_reduced.shape)"
      ],
      "execution_count": null,
      "outputs": [
        {
          "output_type": "stream",
          "text": [
            "Original data:\n",
            "[[12 42 27 42 28]\n",
            " [13 19 32 40 44]\n",
            " [22 44 41 25 47]\n",
            " [21 26 44 13 15]\n",
            " [13 14 23 17 38]\n",
            " [47 44 18 41 21]\n",
            " [26 19 32 45 26]\n",
            " [26 46 29 27 44]\n",
            " [41 16 10 35 20]\n",
            " [23 36 28 16 49]\n",
            " [28 44 45 21 17]\n",
            " [45 17 43 23 24]\n",
            " [42 43 21 38 49]\n",
            " [21 49 23 19 26]\n",
            " [43 40 18 10 15]\n",
            " [17 19 22 20 49]\n",
            " [49 40 40 20 26]\n",
            " [18 32 31 14 41]\n",
            " [20 15 11 14 19]\n",
            " [13 43 19 28 23]]\n",
            "Dimensions of the original dummy data:  (20, 5)\n",
            "Data after applying dimensionality reduction technique, PCA:\n",
            "[[ -6.24674691   8.38890789]\n",
            " [-21.93806515  -2.81267996]\n",
            " [-10.20419458  19.90288662]\n",
            " [  3.94857634 -10.71211533]\n",
            " [-19.81085875 -15.70469739]\n",
            " [ 24.0913937    6.31621406]\n",
            " [ -1.20209221  -9.34712676]\n",
            " [ -4.96652667  17.70710372]\n",
            " [ 12.3518564  -21.00486109]\n",
            " [-13.15526345   9.33889833]\n",
            " [ 12.91722841   7.22791539]\n",
            " [ 13.32653767 -11.65816723]\n",
            " [  2.70124945  17.97475183]\n",
            " [  3.36892135   9.12115541]\n",
            " [ 23.63610058  -4.92987929]\n",
            " [-22.35142617  -6.16161123]\n",
            " [ 21.41803327   7.53128265]\n",
            " [-12.90919285   2.5945901 ]\n",
            " [ -2.70563934 -26.52041196]\n",
            " [ -2.2698911    2.74784423]]\n",
            "Dimensions of the data after applying PCA:  (20, 2)\n"
          ],
          "name": "stdout"
        }
      ]
    },
    {
      "cell_type": "markdown",
      "metadata": {
        "id": "eDd0hTK3QDsg"
      },
      "source": [
        "# **PCA on Iris dataset:**"
      ]
    },
    {
      "cell_type": "code",
      "metadata": {
        "id": "PsmIjd1gTnVB"
      },
      "source": [
        "import numpy as np"
      ],
      "execution_count": null,
      "outputs": []
    },
    {
      "cell_type": "code",
      "metadata": {
        "id": "HD_CUTt4F1op"
      },
      "source": [
        "def PCA(X, num_components):\n",
        "    X_meaned = X - np.mean(X, axis = 0)\n",
        "    cov_mat = np.cov(X_meaned, rowvar=False)\n",
        "    eigen_values, eigen_vectors = np.linalg.eigh(cov_mat)\n",
        "    sorted_index = np.argsort(eigen_values)[::-1]\n",
        "    sorted_eigenvalue = eigen_values[sorted_index]\n",
        "    sorted_eigenvectors = eigen_vectors[:, sorted_index]\n",
        "    eigenvector_subset = sorted_eigenvectors[:,0:num_components]\n",
        "    X_reduced = np.dot(eigenvector_subset.transpose(), X_meaned.transpose()).transpose()\n",
        "    return X_reduced"
      ],
      "execution_count": null,
      "outputs": []
    },
    {
      "cell_type": "code",
      "metadata": {
        "id": "CxTnStcTQblm",
        "colab": {
          "base_uri": "https://localhost:8080/",
          "height": 204
        },
        "outputId": "849b93ee-b83f-4328-e287-e2f1e59811af"
      },
      "source": [
        "import pandas as pd\n",
        " \n",
        "# Reading the IRIS dataset\n",
        "url = \"https://archive.ics.uci.edu/ml/machine-learning-databases/iris/iris.data\"\n",
        "data = pd.read_csv(url, names=['sepal length','sepal width','petal length','petal width','target'])\n",
        " \n",
        "data.head()"
      ],
      "execution_count": null,
      "outputs": [
        {
          "output_type": "execute_result",
          "data": {
            "text/html": [
              "<div>\n",
              "<style scoped>\n",
              "    .dataframe tbody tr th:only-of-type {\n",
              "        vertical-align: middle;\n",
              "    }\n",
              "\n",
              "    .dataframe tbody tr th {\n",
              "        vertical-align: top;\n",
              "    }\n",
              "\n",
              "    .dataframe thead th {\n",
              "        text-align: right;\n",
              "    }\n",
              "</style>\n",
              "<table border=\"1\" class=\"dataframe\">\n",
              "  <thead>\n",
              "    <tr style=\"text-align: right;\">\n",
              "      <th></th>\n",
              "      <th>sepal length</th>\n",
              "      <th>sepal width</th>\n",
              "      <th>petal length</th>\n",
              "      <th>petal width</th>\n",
              "      <th>target</th>\n",
              "    </tr>\n",
              "  </thead>\n",
              "  <tbody>\n",
              "    <tr>\n",
              "      <th>0</th>\n",
              "      <td>5.1</td>\n",
              "      <td>3.5</td>\n",
              "      <td>1.4</td>\n",
              "      <td>0.2</td>\n",
              "      <td>Iris-setosa</td>\n",
              "    </tr>\n",
              "    <tr>\n",
              "      <th>1</th>\n",
              "      <td>4.9</td>\n",
              "      <td>3.0</td>\n",
              "      <td>1.4</td>\n",
              "      <td>0.2</td>\n",
              "      <td>Iris-setosa</td>\n",
              "    </tr>\n",
              "    <tr>\n",
              "      <th>2</th>\n",
              "      <td>4.7</td>\n",
              "      <td>3.2</td>\n",
              "      <td>1.3</td>\n",
              "      <td>0.2</td>\n",
              "      <td>Iris-setosa</td>\n",
              "    </tr>\n",
              "    <tr>\n",
              "      <th>3</th>\n",
              "      <td>4.6</td>\n",
              "      <td>3.1</td>\n",
              "      <td>1.5</td>\n",
              "      <td>0.2</td>\n",
              "      <td>Iris-setosa</td>\n",
              "    </tr>\n",
              "    <tr>\n",
              "      <th>4</th>\n",
              "      <td>5.0</td>\n",
              "      <td>3.6</td>\n",
              "      <td>1.4</td>\n",
              "      <td>0.2</td>\n",
              "      <td>Iris-setosa</td>\n",
              "    </tr>\n",
              "  </tbody>\n",
              "</table>\n",
              "</div>"
            ],
            "text/plain": [
              "   sepal length  sepal width  petal length  petal width       target\n",
              "0           5.1          3.5           1.4          0.2  Iris-setosa\n",
              "1           4.9          3.0           1.4          0.2  Iris-setosa\n",
              "2           4.7          3.2           1.3          0.2  Iris-setosa\n",
              "3           4.6          3.1           1.5          0.2  Iris-setosa\n",
              "4           5.0          3.6           1.4          0.2  Iris-setosa"
            ]
          },
          "metadata": {
            "tags": []
          },
          "execution_count": 22
        }
      ]
    },
    {
      "cell_type": "code",
      "metadata": {
        "id": "IHUqZTaGS2Y4"
      },
      "source": [
        "# Preparing the data\n",
        "x = data.iloc[:,0:4]\n",
        " \n",
        "# Preparing the target\n",
        "target = data.iloc[:,4]"
      ],
      "execution_count": null,
      "outputs": []
    },
    {
      "cell_type": "code",
      "metadata": {
        "id": "o-PC6GlMS6zE"
      },
      "source": [
        "# Applying it to PCA function\n",
        "mat_reduced = PCA(x , 2)"
      ],
      "execution_count": null,
      "outputs": []
    },
    {
      "cell_type": "code",
      "metadata": {
        "id": "9m-0YklbS_Yo"
      },
      "source": [
        "# Creating a Pandas dataFrame of reduced dataset\n",
        "principal_df = pd.DataFrame(mat_reduced , columns = ['PC1','PC2'])"
      ],
      "execution_count": null,
      "outputs": []
    },
    {
      "cell_type": "code",
      "metadata": {
        "id": "kKaKZddeTCyq"
      },
      "source": [
        "# Concatenating it with target variable to create a complete dataset\n",
        "principal_df = pd.concat([principal_df , pd.DataFrame(target)] , axis = 1)"
      ],
      "execution_count": null,
      "outputs": []
    },
    {
      "cell_type": "code",
      "metadata": {
        "id": "AfdjqwA9Qu9Y",
        "colab": {
          "base_uri": "https://localhost:8080/",
          "height": 609
        },
        "outputId": "f5b504bb-af84-4bce-d091-f4f2b3b51154"
      },
      "source": [
        "# Visualization of the results\n",
        "import seaborn as sns\n",
        "import matplotlib.pyplot as plt\n",
        "plt.figure(figsize = (10,10))\n",
        "\n",
        "sns.scatterplot(data=principal_df, x='PC1', y='PC2', hue='target', s=60, palette='icefire')\n",
        "plt.show()"
      ],
      "execution_count": null,
      "outputs": [
        {
          "output_type": "display_data",
          "data": {
            "image/png": "[encoded data removed]",
            "text/plain": [
              "<Figure size 720x720 with 1 Axes>"
            ]
          },
          "metadata": {
            "tags": [],
            "needs_background": "light"
          }
        }
      ]
    }
  ]
}