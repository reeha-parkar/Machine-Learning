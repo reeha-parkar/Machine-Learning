{
 "cells": [
  {
   "cell_type": "markdown",
   "metadata": {
    "id": "FwFEIyLxKFOe"
   },
   "source": [
    "# **PCA (Principal Component Analysis)**\n"
   ]
  },
  {
   "cell_type": "code",
   "execution_count": 2,
   "metadata": {
    "id": "6VC_oJOTFM2c"
   },
   "outputs": [],
   "source": [
    "#Importing required libraries\n",
    "import numpy as np"
   ]
  },
  {
   "cell_type": "code",
   "execution_count": 3,
   "metadata": {
    "id": "VGmieSqTFTyI"
   },
   "outputs": [],
   "source": [
    "# Generate a dummy dataset\n",
    "X = np.random.randint(10,50,100).reshape(20,5) \n",
    "# Mean centering the data  \n",
    "X_meaned = X - np.mean(X , axis = 0)"
   ]
  },
  {
   "cell_type": "code",
   "execution_count": 4,
   "metadata": {
    "id": "e9UJ8p3gFXGb"
   },
   "outputs": [],
   "source": [
    "# Calculating the covariance matrix of the mean-centered data\n",
    "cov_mat = np.cov(X_meaned , rowvar = False)"
   ]
  },
  {
   "cell_type": "code",
   "execution_count": 5,
   "metadata": {
    "id": "uIkwi3rDFbZn"
   },
   "outputs": [],
   "source": [
    "#Calculating Eigenvalues and Eigenvectors of the covariance matrix\n",
    "eigen_values , eigen_vectors = np.linalg.eigh(cov_mat)"
   ]
  },
  {
   "cell_type": "code",
   "execution_count": 6,
   "metadata": {
    "id": "Xe_YK8J5Ffem"
   },
   "outputs": [],
   "source": [
    "#sort the eigenvalues and eigenvectors in descending order\n",
    "sorted_index = np.argsort(eigen_values)[::-1]\n",
    "sorted_eigenvalue = eigen_values[sorted_index]\n",
    "sorted_eigenvectors = eigen_vectors[:,sorted_index]"
   ]
  },
  {
   "cell_type": "code",
   "execution_count": 7,
   "metadata": {
    "id": "Nzmwl-SMFkKW"
   },
   "outputs": [],
   "source": [
    "# Select the first n eigenvectors, n is desired dimension of our final reduced data\n",
    "n_components = 2 \n",
    "eigenvector_subset = sorted_eigenvectors[:,0:n_components]"
   ]
  },
  {
   "cell_type": "code",
   "execution_count": 8,
   "metadata": {
    "id": "A5BR3boMFoqh"
   },
   "outputs": [],
   "source": [
    "# Transform the data \n",
    "X_reduced = np.dot(eigenvector_subset.transpose(),X_meaned.transpose()).transpose()"
   ]
  },
  {
   "cell_type": "code",
   "execution_count": 9,
   "metadata": {
    "colab": {
     "base_uri": "https://localhost:8080/"
    },
    "id": "tRYe7y0gFrhB",
    "outputId": "a6a74b7b-3179-4634-9d51-580531e4e93a"
   },
   "outputs": [
    {
     "name": "stdout",
     "output_type": "stream",
     "text": [
      "Original data:\n",
      "[[26 23 20 23 17]\n",
      " [38 33 17 23 23]\n",
      " [18 18 41 48 27]\n",
      " [49 39 29 35 25]\n",
      " [15 10 38 20 38]\n",
      " [11 24 31 37 30]\n",
      " [38 43 16 27 19]\n",
      " [22 44 19 35 34]\n",
      " [35 22 33 18 32]\n",
      " [18 19 49 49 49]\n",
      " [37 31 30 28 34]\n",
      " [30 10 27 29 25]\n",
      " [24 24 17 26 26]\n",
      " [24 12 35 21 13]\n",
      " [34 16 22 27 32]\n",
      " [31 32 27 26 37]\n",
      " [24 45 28 25 16]\n",
      " [13 35 45 23 19]\n",
      " [37 48 44 29 26]\n",
      " [44 30 33 15 28]]\n",
      "Dimensions of the original dummy data:  (20, 5)\n",
      "Data after applying dimensionality reduction technique, PCA:\n",
      "[[ -4.47515422  12.64171984]\n",
      " [-16.53892536   6.14066822]\n",
      " [ 21.65734958  -8.09025702]\n",
      " [-17.17898596  -8.64352923]\n",
      " [ 22.15820798  10.00430589]\n",
      " [ 15.47326819  -4.13505237]\n",
      " [-23.01217758  -1.61414547]\n",
      " [ -6.96087977 -12.744491  ]\n",
      " [ -0.39645691   7.61664898]\n",
      " [ 31.1186598  -18.13365873]\n",
      " [ -4.73620386  -3.05286055]\n",
      " [  8.11949452  14.36335031]\n",
      " [ -1.74580815   9.12808004]\n",
      " [  7.7432274   16.40003858]\n",
      " [  1.72761519  11.62287959]\n",
      " [ -2.99560317  -2.8133076 ]\n",
      " [-13.01508286  -7.18332177]\n",
      " [  6.40370806  -7.46489766]\n",
      " [-11.19713588 -19.2324749 ]\n",
      " [-12.14911701   5.19030484]]\n",
      "Dimensions of the data after applying PCA:  (20, 2)\n"
     ]
    }
   ],
   "source": [
    "# Output\n",
    "print('Original data:')\n",
    "print(X)\n",
    "print('Dimensions of the original dummy data: ', X.shape)\n",
    "print('Data after applying dimensionality reduction technique, PCA:')\n",
    "print(X_reduced)\n",
    "print('Dimensions of the data after applying PCA: ', X_reduced.shape)"
   ]
  },
  {
   "cell_type": "markdown",
   "metadata": {
    "id": "eDd0hTK3QDsg"
   },
   "source": [
    "# **PCA on Iris dataset:**"
   ]
  },
  {
   "cell_type": "code",
   "execution_count": 10,
   "metadata": {
    "id": "PsmIjd1gTnVB"
   },
   "outputs": [],
   "source": [
    "import numpy as np"
   ]
  },
  {
   "cell_type": "code",
   "execution_count": 11,
   "metadata": {
    "id": "HD_CUTt4F1op"
   },
   "outputs": [],
   "source": [
    "def PCA(X, num_components):\n",
    "    X_meaned = X - np.mean(X, axis = 0)\n",
    "    cov_mat = np.cov(X_meaned, rowvar=False)\n",
    "    eigen_values, eigen_vectors = np.linalg.eigh(cov_mat)\n",
    "    sorted_index = np.argsort(eigen_values)[::-1]\n",
    "    sorted_eigenvalue = eigen_values[sorted_index]\n",
    "    sorted_eigenvectors = eigen_vectors[:, sorted_index]\n",
    "    eigenvector_subset = sorted_eigenvectors[:,0:num_components]\n",
    "    X_reduced = np.dot(eigenvector_subset.transpose(), X_meaned.transpose()).transpose()\n",
    "    return X_reduced"
   ]
  },
  {
   "cell_type": "code",
   "execution_count": 12,
   "metadata": {
    "colab": {
     "base_uri": "https://localhost:8080/",
     "height": 204
    },
    "id": "CxTnStcTQblm",
    "outputId": "849b93ee-b83f-4328-e287-e2f1e59811af"
   },
   "outputs": [
    {
     "data": {
      "text/html": [
       "<div>\n",
       "<style scoped>\n",
       "    .dataframe tbody tr th:only-of-type {\n",
       "        vertical-align: middle;\n",
       "    }\n",
       "\n",
       "    .dataframe tbody tr th {\n",
       "        vertical-align: top;\n",
       "    }\n",
       "\n",
       "    .dataframe thead th {\n",
       "        text-align: right;\n",
       "    }\n",
       "</style>\n",
       "<table border=\"1\" class=\"dataframe\">\n",
       "  <thead>\n",
       "    <tr style=\"text-align: right;\">\n",
       "      <th></th>\n",
       "      <th>sepal length</th>\n",
       "      <th>sepal width</th>\n",
       "      <th>petal length</th>\n",
       "      <th>petal width</th>\n",
       "      <th>target</th>\n",
       "    </tr>\n",
       "  </thead>\n",
       "  <tbody>\n",
       "    <tr>\n",
       "      <th>0</th>\n",
       "      <td>5.1</td>\n",
       "      <td>3.5</td>\n",
       "      <td>1.4</td>\n",
       "      <td>0.2</td>\n",
       "      <td>Iris-setosa</td>\n",
       "    </tr>\n",
       "    <tr>\n",
       "      <th>1</th>\n",
       "      <td>4.9</td>\n",
       "      <td>3.0</td>\n",
       "      <td>1.4</td>\n",
       "      <td>0.2</td>\n",
       "      <td>Iris-setosa</td>\n",
       "    </tr>\n",
       "    <tr>\n",
       "      <th>2</th>\n",
       "      <td>4.7</td>\n",
       "      <td>3.2</td>\n",
       "      <td>1.3</td>\n",
       "      <td>0.2</td>\n",
       "      <td>Iris-setosa</td>\n",
       "    </tr>\n",
       "    <tr>\n",
       "      <th>3</th>\n",
       "      <td>4.6</td>\n",
       "      <td>3.1</td>\n",
       "      <td>1.5</td>\n",
       "      <td>0.2</td>\n",
       "      <td>Iris-setosa</td>\n",
       "    </tr>\n",
       "    <tr>\n",
       "      <th>4</th>\n",
       "      <td>5.0</td>\n",
       "      <td>3.6</td>\n",
       "      <td>1.4</td>\n",
       "      <td>0.2</td>\n",
       "      <td>Iris-setosa</td>\n",
       "    </tr>\n",
       "  </tbody>\n",
       "</table>\n",
       "</div>"
      ],
      "text/plain": [
       "   sepal length  sepal width  petal length  petal width       target\n",
       "0           5.1          3.5           1.4          0.2  Iris-setosa\n",
       "1           4.9          3.0           1.4          0.2  Iris-setosa\n",
       "2           4.7          3.2           1.3          0.2  Iris-setosa\n",
       "3           4.6          3.1           1.5          0.2  Iris-setosa\n",
       "4           5.0          3.6           1.4          0.2  Iris-setosa"
      ]
     },
     "execution_count": 12,
     "metadata": {},
     "output_type": "execute_result"
    }
   ],
   "source": [
    "import pandas as pd\n",
    " \n",
    "# Reading the IRIS dataset\n",
    "url = \"https://archive.ics.uci.edu/ml/machine-learning-databases/iris/iris.data\"\n",
    "data = pd.read_csv(url, names=['sepal length','sepal width','petal length','petal width','target'])\n",
    " \n",
    "data.head()"
   ]
  },
  {
   "cell_type": "code",
   "execution_count": 13,
   "metadata": {
    "id": "IHUqZTaGS2Y4"
   },
   "outputs": [],
   "source": [
    "# Preparing the data\n",
    "x = data.iloc[:,0:4]\n",
    " \n",
    "# Preparing the target\n",
    "target = data.iloc[:,4]"
   ]
  },
  {
   "cell_type": "code",
   "execution_count": 14,
   "metadata": {
    "id": "o-PC6GlMS6zE"
   },
   "outputs": [],
   "source": [
    "# Applying it to PCA function\n",
    "mat_reduced = PCA(x, 2)"
   ]
  },
  {
   "cell_type": "code",
   "execution_count": 15,
   "metadata": {
    "id": "9m-0YklbS_Yo"
   },
   "outputs": [],
   "source": [
    "# Creating a Pandas dataFrame of reduced dataset\n",
    "principal_df = pd.DataFrame(mat_reduced , columns = ['PC1', 'PC2'])"
   ]
  },
  {
   "cell_type": "code",
   "execution_count": 16,
   "metadata": {
    "id": "kKaKZddeTCyq"
   },
   "outputs": [],
   "source": [
    "# Concatenating it with target variable to create a complete dataset\n",
    "principal_df = pd.concat([principal_df , pd.DataFrame(target)] , axis = 1)"
   ]
  },
  {
   "cell_type": "code",
   "execution_count": 17,
   "metadata": {
    "colab": {
     "base_uri": "https://localhost:8080/",
     "height": 609
    },
    "id": "AfdjqwA9Qu9Y",
    "outputId": "f5b504bb-af84-4bce-d091-f4f2b3b51154"
   },
   "outputs": [
    {
     "data": {
      "image/png": "[encoded data removed]",
      "text/plain": [
       "<Figure size 720x720 with 1 Axes>"
      ]
     },
     "metadata": {
      "needs_background": "light"
     },
     "output_type": "display_data"
    }
   ],
   "source": [
    "# Visualization of the results\n",
    "import seaborn as sns\n",
    "import matplotlib.pyplot as plt\n",
    "plt.figure(figsize = (10,10))\n",
    "\n",
    "sns.scatterplot(data=principal_df, x='PC1', y='PC2', hue='target', s=60, palette='icefire')\n",
    "plt.show()"
   ]
  }
 ],
 "metadata": {
  "colab": {
   "collapsed_sections": [],
   "name": "PCA",
   "provenance": []
  },
  "kernelspec": {
   "display_name": "Python 3",
   "language": "python",
   "name": "python3"
  },
  "language_info": {
   "codemirror_mode": {
    "name": "ipython",
    "version": 3
   },
   "file_extension": ".py",
   "mimetype": "text/x-python",
   "name": "python",
   "nbconvert_exporter": "python",
   "pygments_lexer": "ipython3",
   "version": "3.7.9"
  }
 },
 "nbformat": 4,
 "nbformat_minor": 1
}
