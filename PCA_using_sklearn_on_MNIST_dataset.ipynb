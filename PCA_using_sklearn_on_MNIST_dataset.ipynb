{
 "cells": [
  {
   "cell_type": "code",
   "execution_count": 1,
   "metadata": {
    "executionInfo": {
     "elapsed": 25734,
     "status": "ok",
     "timestamp": 1605959692528,
     "user": {
      "displayName": "Reeha Parkar",
      "photoUrl": "https://lh3.googleusercontent.com/a-/AOh14Gh1rOZ2RmrC8_eGvLgIqIOqauqBlIatJwyDMhL0OeM=s64",
      "userId": "14035404591301845819"
     },
     "user_tz": -330
    },
    "id": "8JxUlFF0-wNM"
   },
   "outputs": [],
   "source": [
    "from sklearn.datasets import fetch_openml\n",
    "mnist_data = fetch_openml('mnist_784', version=1)"
   ]
  },
  {
   "cell_type": "code",
   "execution_count": 2,
   "metadata": {
    "executionInfo": {
     "elapsed": 2130,
     "status": "ok",
     "timestamp": 1605959698168,
     "user": {
      "displayName": "Reeha Parkar",
      "photoUrl": "https://lh3.googleusercontent.com/a-/AOh14Gh1rOZ2RmrC8_eGvLgIqIOqauqBlIatJwyDMhL0OeM=s64",
      "userId": "14035404591301845819"
     },
     "user_tz": -330
    },
    "id": "r8JDi7Z_-1Uo"
   },
   "outputs": [],
   "source": [
    "from sklearn.model_selection import train_test_split\n",
    "# test_size: what proportion of original data is used for test set\n",
    "train_img, test_img, train_lbl, test_lbl =train_test_split( mnist_data.data, mnist_data.target, test_size=1/7.0, random_state=0)"
   ]
  },
  {
   "cell_type": "code",
   "execution_count": 3,
   "metadata": {
    "colab": {
     "base_uri": "https://localhost:8080/"
    },
    "executionInfo": {
     "elapsed": 920,
     "status": "ok",
     "timestamp": 1605959698170,
     "user": {
      "displayName": "Reeha Parkar",
      "photoUrl": "https://lh3.googleusercontent.com/a-/AOh14Gh1rOZ2RmrC8_eGvLgIqIOqauqBlIatJwyDMhL0OeM=s64",
      "userId": "14035404591301845819"
     },
     "user_tz": -330
    },
    "id": "ad6Kb4Fj9Biy",
    "outputId": "379ba84f-2958-4a39-a88c-38d58c9a76d4"
   },
   "outputs": [
    {
     "data": {
      "text/plain": [
       "(10000, 784)"
      ]
     },
     "execution_count": 3,
     "metadata": {
      "tags": []
     },
     "output_type": "execute_result"
    }
   ],
   "source": [
    "test_img.shape"
   ]
  },
  {
   "cell_type": "code",
   "execution_count": 4,
   "metadata": {
    "colab": {
     "base_uri": "https://localhost:8080/",
     "height": 146
    },
    "executionInfo": {
     "elapsed": 835,
     "status": "ok",
     "timestamp": 1605959698945,
     "user": {
      "displayName": "Reeha Parkar",
      "photoUrl": "https://lh3.googleusercontent.com/a-/AOh14Gh1rOZ2RmrC8_eGvLgIqIOqauqBlIatJwyDMhL0OeM=s64",
      "userId": "14035404591301845819"
     },
     "user_tz": -330
    },
    "id": "T7BBBtHx_ZB4",
    "outputId": "df1a5ff6-20d1-4ffe-c4ba-e67dce0bccec"
   },
   "outputs": [
    {
     "data": {
      "text/plain": [
       "(-0.5, 27.5, 27.5, -0.5)"
      ]
     },
     "execution_count": 4,
     "metadata": {
      "tags": []
     },
     "output_type": "execute_result"
    },
    {
     "data": {
      "image/png": "[encoded data removed]",
      "text/plain": [
       "<Figure size 432x288 with 1 Axes>"
      ]
     },
     "metadata": {
      "needs_background": "light",
      "tags": []
     },
     "output_type": "display_data"
    }
   ],
   "source": [
    "import matplotlib.pyplot as plt\n",
    "digit = test_img[2]\n",
    "digit_pixels = digit.reshape(28, 28)\n",
    "plt.subplot(131)\n",
    "plt.imshow(digit_pixels)\n",
    "plt.axis('off')"
   ]
  },
  {
   "cell_type": "code",
   "execution_count": 5,
   "metadata": {
    "executionInfo": {
     "elapsed": 2426,
     "status": "ok",
     "timestamp": 1605959701579,
     "user": {
      "displayName": "Reeha Parkar",
      "photoUrl": "https://lh3.googleusercontent.com/a-/AOh14Gh1rOZ2RmrC8_eGvLgIqIOqauqBlIatJwyDMhL0OeM=s64",
      "userId": "14035404591301845819"
     },
     "user_tz": -330
    },
    "id": "UHIw26XP-5Ni"
   },
   "outputs": [],
   "source": [
    "from sklearn.preprocessing import StandardScaler\n",
    "scaler = StandardScaler()\n",
    "# Fit on training set only.\n",
    "scaler.fit(train_img)\n",
    "# Apply transform to both the training set and the test set.\n",
    "train_img = scaler.transform(train_img)\n",
    "test_img = scaler.transform(test_img)"
   ]
  },
  {
   "cell_type": "code",
   "execution_count": 6,
   "metadata": {
    "colab": {
     "base_uri": "https://localhost:8080/"
    },
    "executionInfo": {
     "elapsed": 1390,
     "status": "ok",
     "timestamp": 1605959701584,
     "user": {
      "displayName": "Reeha Parkar",
      "photoUrl": "https://lh3.googleusercontent.com/a-/AOh14Gh1rOZ2RmrC8_eGvLgIqIOqauqBlIatJwyDMhL0OeM=s64",
      "userId": "14035404591301845819"
     },
     "user_tz": -330
    },
    "id": "SpKGpnug9-w5",
    "outputId": "e505b1b5-ec1e-4a75-98b8-7496068a808d"
   },
   "outputs": [
    {
     "data": {
      "text/plain": [
       "(60000, 784)"
      ]
     },
     "execution_count": 6,
     "metadata": {
      "tags": []
     },
     "output_type": "execute_result"
    }
   ],
   "source": [
    "train_img.shape"
   ]
  },
  {
   "cell_type": "code",
   "execution_count": 7,
   "metadata": {
    "executionInfo": {
     "elapsed": 968,
     "status": "ok",
     "timestamp": 1605959702093,
     "user": {
      "displayName": "Reeha Parkar",
      "photoUrl": "https://lh3.googleusercontent.com/a-/AOh14Gh1rOZ2RmrC8_eGvLgIqIOqauqBlIatJwyDMhL0OeM=s64",
      "userId": "14035404591301845819"
     },
     "user_tz": -330
    },
    "id": "f-iAkRP7-_Vv"
   },
   "outputs": [],
   "source": [
    "from sklearn.decomposition import PCA\n",
    "# Make an instance of the Model\n",
    "p1 = PCA(.95)"
   ]
  },
  {
   "cell_type": "code",
   "execution_count": 8,
   "metadata": {
    "colab": {
     "base_uri": "https://localhost:8080/"
    },
    "executionInfo": {
     "elapsed": 13100,
     "status": "ok",
     "timestamp": 1605959715153,
     "user": {
      "displayName": "Reeha Parkar",
      "photoUrl": "https://lh3.googleusercontent.com/a-/AOh14Gh1rOZ2RmrC8_eGvLgIqIOqauqBlIatJwyDMhL0OeM=s64",
      "userId": "14035404591301845819"
     },
     "user_tz": -330
    },
    "id": "mwMH0HSX_Bjv",
    "outputId": "7e69dceb-3892-4434-f24a-599d6ec42fc5"
   },
   "outputs": [
    {
     "data": {
      "text/plain": [
       "PCA(copy=True, iterated_power='auto', n_components=0.95, random_state=None,\n",
       "    svd_solver='auto', tol=0.0, whiten=False)"
      ]
     },
     "execution_count": 8,
     "metadata": {
      "tags": []
     },
     "output_type": "execute_result"
    }
   ],
   "source": [
    "p1.fit(train_img)"
   ]
  },
  {
   "cell_type": "code",
   "execution_count": 9,
   "metadata": {
    "executionInfo": {
     "elapsed": 14706,
     "status": "ok",
     "timestamp": 1605959717651,
     "user": {
      "displayName": "Reeha Parkar",
      "photoUrl": "https://lh3.googleusercontent.com/a-/AOh14Gh1rOZ2RmrC8_eGvLgIqIOqauqBlIatJwyDMhL0OeM=s64",
      "userId": "14035404591301845819"
     },
     "user_tz": -330
    },
    "id": "E8bbdXns_DyX"
   },
   "outputs": [],
   "source": [
    "train_img = p1.transform(train_img)\n",
    "test_img = p1.transform(test_img)"
   ]
  },
  {
   "cell_type": "code",
   "execution_count": 10,
   "metadata": {
    "colab": {
     "base_uri": "https://localhost:8080/"
    },
    "executionInfo": {
     "elapsed": 13953,
     "status": "ok",
     "timestamp": 1605959717658,
     "user": {
      "displayName": "Reeha Parkar",
      "photoUrl": "https://lh3.googleusercontent.com/a-/AOh14Gh1rOZ2RmrC8_eGvLgIqIOqauqBlIatJwyDMhL0OeM=s64",
      "userId": "14035404591301845819"
     },
     "user_tz": -330
    },
    "id": "HSEWI87e952_",
    "outputId": "ce5ea0cf-4d1a-4fad-d95e-9d6d6c911dab"
   },
   "outputs": [
    {
     "data": {
      "text/plain": [
       "(327,)"
      ]
     },
     "execution_count": 10,
     "metadata": {
      "tags": []
     },
     "output_type": "execute_result"
    }
   ],
   "source": [
    "train_img[1].shape\n"
   ]
  },
  {
   "cell_type": "code",
   "execution_count": 11,
   "metadata": {
    "executionInfo": {
     "elapsed": 7765,
     "status": "ok",
     "timestamp": 1605959717660,
     "user": {
      "displayName": "Reeha Parkar",
      "photoUrl": "https://lh3.googleusercontent.com/a-/AOh14Gh1rOZ2RmrC8_eGvLgIqIOqauqBlIatJwyDMhL0OeM=s64",
      "userId": "14035404591301845819"
     },
     "user_tz": -330
    },
    "id": "SGEdRPWB_F2a"
   },
   "outputs": [],
   "source": [
    "from sklearn.linear_model import LogisticRegression"
   ]
  },
  {
   "cell_type": "code",
   "execution_count": 12,
   "metadata": {
    "executionInfo": {
     "elapsed": 6850,
     "status": "ok",
     "timestamp": 1605959717662,
     "user": {
      "displayName": "Reeha Parkar",
      "photoUrl": "https://lh3.googleusercontent.com/a-/AOh14Gh1rOZ2RmrC8_eGvLgIqIOqauqBlIatJwyDMhL0OeM=s64",
      "userId": "14035404591301845819"
     },
     "user_tz": -330
    },
    "id": "ol8iOa7F_IIO"
   },
   "outputs": [],
   "source": [
    "# all parameters not specified are set to their defaults\n",
    "# default solver is incredibly slow which is why it was changed to 'lbfgs'\n",
    "logisticRegr = LogisticRegression(solver = 'lbfgs')"
   ]
  },
  {
   "cell_type": "code",
   "execution_count": 13,
   "metadata": {
    "colab": {
     "base_uri": "https://localhost:8080/"
    },
    "executionInfo": {
     "elapsed": 21270,
     "status": "ok",
     "timestamp": 1605959732871,
     "user": {
      "displayName": "Reeha Parkar",
      "photoUrl": "https://lh3.googleusercontent.com/a-/AOh14Gh1rOZ2RmrC8_eGvLgIqIOqauqBlIatJwyDMhL0OeM=s64",
      "userId": "14035404591301845819"
     },
     "user_tz": -330
    },
    "id": "zUleq-Ht_KXO",
    "outputId": "2cfeb272-b6c5-4a47-e287-f0a5367ef445"
   },
   "outputs": [
    {
     "name": "stderr",
     "output_type": "stream",
     "text": [
      "/usr/local/lib/python3.6/dist-packages/sklearn/linear_model/_logistic.py:940: ConvergenceWarning: lbfgs failed to converge (status=1):\n",
      "STOP: TOTAL NO. of ITERATIONS REACHED LIMIT.\n",
      "\n",
      "Increase the number of iterations (max_iter) or scale the data as shown in:\n",
      "    https://scikit-learn.org/stable/modules/preprocessing.html\n",
      "Please also refer to the documentation for alternative solver options:\n",
      "    https://scikit-learn.org/stable/modules/linear_model.html#logistic-regression\n",
      "  extra_warning_msg=_LOGISTIC_SOLVER_CONVERGENCE_MSG)\n"
     ]
    },
    {
     "data": {
      "text/plain": [
       "LogisticRegression(C=1.0, class_weight=None, dual=False, fit_intercept=True,\n",
       "                   intercept_scaling=1, l1_ratio=None, max_iter=100,\n",
       "                   multi_class='auto', n_jobs=None, penalty='l2',\n",
       "                   random_state=None, solver='lbfgs', tol=0.0001, verbose=0,\n",
       "                   warm_start=False)"
      ]
     },
     "execution_count": 13,
     "metadata": {
      "tags": []
     },
     "output_type": "execute_result"
    }
   ],
   "source": [
    "logisticRegr.fit(train_img, train_lbl)"
   ]
  },
  {
   "cell_type": "code",
   "execution_count": 14,
   "metadata": {
    "colab": {
     "base_uri": "https://localhost:8080/"
    },
    "executionInfo": {
     "elapsed": 20108,
     "status": "ok",
     "timestamp": 1605959732874,
     "user": {
      "displayName": "Reeha Parkar",
      "photoUrl": "https://lh3.googleusercontent.com/a-/AOh14Gh1rOZ2RmrC8_eGvLgIqIOqauqBlIatJwyDMhL0OeM=s64",
      "userId": "14035404591301845819"
     },
     "user_tz": -330
    },
    "id": "qrsOBfZH_NEc",
    "outputId": "de29f03f-1c84-4a86-fe2e-0a560f3837d8"
   },
   "outputs": [
    {
     "data": {
      "text/plain": [
       "array(['4'], dtype=object)"
      ]
     },
     "execution_count": 14,
     "metadata": {
      "tags": []
     },
     "output_type": "execute_result"
    }
   ],
   "source": [
    "# Predict for One Observation (image)\n",
    "logisticRegr.predict(test_img[1].reshape(1,-1))"
   ]
  },
  {
   "cell_type": "code",
   "execution_count": 15,
   "metadata": {
    "colab": {
     "base_uri": "https://localhost:8080/"
    },
    "executionInfo": {
     "elapsed": 18959,
     "status": "ok",
     "timestamp": 1605959732876,
     "user": {
      "displayName": "Reeha Parkar",
      "photoUrl": "https://lh3.googleusercontent.com/a-/AOh14Gh1rOZ2RmrC8_eGvLgIqIOqauqBlIatJwyDMhL0OeM=s64",
      "userId": "14035404591301845819"
     },
     "user_tz": -330
    },
    "id": "rbZddKgj_PQa",
    "outputId": "54cc1ab2-e68e-4913-ca71-1f47b6a28434"
   },
   "outputs": [
    {
     "data": {
      "text/plain": [
       "array(['0', '4', '1', '2', '4', '7', '7', '1', '1', '7'], dtype=object)"
      ]
     },
     "execution_count": 15,
     "metadata": {
      "tags": []
     },
     "output_type": "execute_result"
    }
   ],
   "source": [
    "# Predict for One Observation (image)\n",
    "logisticRegr.predict(test_img[0:10])"
   ]
  },
  {
   "cell_type": "code",
   "execution_count": 16,
   "metadata": {
    "colab": {
     "base_uri": "https://localhost:8080/"
    },
    "executionInfo": {
     "elapsed": 17769,
     "status": "ok",
     "timestamp": 1605959732878,
     "user": {
      "displayName": "Reeha Parkar",
      "photoUrl": "https://lh3.googleusercontent.com/a-/AOh14Gh1rOZ2RmrC8_eGvLgIqIOqauqBlIatJwyDMhL0OeM=s64",
      "userId": "14035404591301845819"
     },
     "user_tz": -330
    },
    "id": "oSVxVUL1_RHm",
    "outputId": "65b6ccbd-0f4a-4e80-8904-5347d407605b"
   },
   "outputs": [
    {
     "data": {
      "text/plain": [
       "0.9201"
      ]
     },
     "execution_count": 16,
     "metadata": {
      "tags": []
     },
     "output_type": "execute_result"
    }
   ],
   "source": [
    "logisticRegr.score(test_img, test_lbl)"
   ]
  }
 ],
 "metadata": {
  "colab": {
   "collapsed_sections": [],
   "name": "PCA_using_sklearn.ipynb",
   "provenance": []
  },
  "kernelspec": {
   "display_name": "Python 3",
   "language": "python",
   "name": "python3"
  },
  "language_info": {
   "codemirror_mode": {
    "name": "ipython",
    "version": 3
   },
   "file_extension": ".py",
   "mimetype": "text/x-python",
   "name": "python",
   "nbconvert_exporter": "python",
   "pygments_lexer": "ipython3",
   "version": "3.7.9"
  }
 },
 "nbformat": 4,
 "nbformat_minor": 1
}
